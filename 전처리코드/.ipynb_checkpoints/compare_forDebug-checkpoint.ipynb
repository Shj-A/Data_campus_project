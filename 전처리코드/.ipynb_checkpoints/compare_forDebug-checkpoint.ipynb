{
 "cells": [
  {
   "cell_type": "code",
   "execution_count": 1,
   "id": "68029bfa",
   "metadata": {},
   "outputs": [],
   "source": [
    "import pandas as pd\n",
    "import os\n",
    "import numpy as np\n",
    "import datetime\n",
    "from datetime import date, timedelta"
   ]
  },
  {
   "cell_type": "code",
   "execution_count": 2,
   "id": "4dcf5c99",
   "metadata": {},
   "outputs": [
    {
     "data": {
      "text/plain": [
       "['최종학습데이터_광주_가뭄지수수치_종합유가_ffill_shift.csv',\n",
       " '최종학습데이터_대구_가뭄지수수치_종합유가_ffill_shift.csv',\n",
       " '최종학습데이터_대전_가뭄지수수치_종합유가_ffill_shift.csv',\n",
       " '최종학습데이터_부산_가뭄지수수치_종합유가_ffill_shift.csv',\n",
       " '최종학습데이터_서울_가뭄지수수치_종합유가_ffill_shift.csv']"
      ]
     },
     "execution_count": 2,
     "metadata": {},
     "output_type": "execute_result"
    }
   ],
   "source": [
    "cv_path = '../../HYU/데이터청년캠퍼스/미다스/data/final/shift/'\n",
    "cv_list = os.listdir(cv_path)\n",
    "cv_list_py = [file for file in cv_list if file.endswith('.csv')]\n",
    "cv_list_py"
   ]
  },
  {
   "cell_type": "code",
   "execution_count": 3,
   "id": "66b5d2c9",
   "metadata": {},
   "outputs": [
    {
     "data": {
      "text/plain": [
       "['최종학습데이터_광주.csv',\n",
       " '최종학습데이터_대구.csv',\n",
       " '최종학습데이터_대전.csv',\n",
       " '최종학습데이터_부산.csv',\n",
       " '최종학습데이터_서울.csv']"
      ]
     },
     "execution_count": 3,
     "metadata": {},
     "output_type": "execute_result"
    }
   ],
   "source": [
    "data_path = '../data/result/출력/'\n",
    "data_list = os.listdir(data_path)\n",
    "data_list_py = [file for file in data_list if file.endswith('.csv')]\n",
    "data_list_py"
   ]
  },
  {
   "cell_type": "code",
   "execution_count": 4,
   "id": "ac6fea3c",
   "metadata": {
    "scrolled": true
   },
   "outputs": [
    {
     "name": "stdout",
     "output_type": "stream",
     "text": [
      "최종학습데이터_광주.csv\n",
      "       지명      \n",
      "     self other\n",
      "48    예산군   예산시\n",
      "49    예산군   예산시\n",
      "50    예산군   예산시\n",
      "51    예산군   예산시\n",
      "52    예산군   예산시\n",
      "...   ...   ...\n",
      "1950  예산군   예산시\n",
      "1951  예산군   예산시\n",
      "1952  예산군   예산시\n",
      "1953  예산군   예산시\n",
      "1954  예산군   예산시\n",
      "\n",
      "[511 rows x 2 columns]\n",
      "\n",
      "최종학습데이터_대구.csv\n",
      "       지명      \n",
      "     self other\n",
      "48    예산군   예산시\n",
      "49    예산군   예산시\n",
      "50    예산군   예산시\n",
      "51    예산군   예산시\n",
      "52    예산군   예산시\n",
      "...   ...   ...\n",
      "1950  예산군   예산시\n",
      "1951  예산군   예산시\n",
      "1952  예산군   예산시\n",
      "1953  예산군   예산시\n",
      "1954  예산군   예산시\n",
      "\n",
      "[511 rows x 2 columns]\n",
      "\n",
      "최종학습데이터_대전.csv\n",
      "       지명      \n",
      "     self other\n",
      "48    예산군   예산시\n",
      "49    예산군   예산시\n",
      "50    예산군   예산시\n",
      "51    예산군   예산시\n",
      "52    예산군   예산시\n",
      "...   ...   ...\n",
      "1950  예산군   예산시\n",
      "1951  예산군   예산시\n",
      "1952  예산군   예산시\n",
      "1953  예산군   예산시\n",
      "1954  예산군   예산시\n",
      "\n",
      "[511 rows x 2 columns]\n",
      "\n",
      "최종학습데이터_부산.csv\n",
      "       지명      \n",
      "     self other\n",
      "48    예산군   예산시\n",
      "49    예산군   예산시\n",
      "50    예산군   예산시\n",
      "51    예산군   예산시\n",
      "52    예산군   예산시\n",
      "...   ...   ...\n",
      "1950  예산군   예산시\n",
      "1951  예산군   예산시\n",
      "1952  예산군   예산시\n",
      "1953  예산군   예산시\n",
      "1954  예산군   예산시\n",
      "\n",
      "[511 rows x 2 columns]\n",
      "\n",
      "최종학습데이터_서울.csv\n",
      "       지명      \n",
      "     self other\n",
      "48    예산군   예산시\n",
      "49    예산군   예산시\n",
      "50    예산군   예산시\n",
      "51    예산군   예산시\n",
      "52    예산군   예산시\n",
      "...   ...   ...\n",
      "1950  예산군   예산시\n",
      "1951  예산군   예산시\n",
      "1952  예산군   예산시\n",
      "1953  예산군   예산시\n",
      "1954  예산군   예산시\n",
      "\n",
      "[511 rows x 2 columns]\n",
      "\n"
     ]
    }
   ],
   "source": [
    "for idx in range(len(data_list_py)):\n",
    "    data = pd.read_csv(data_path + data_list_py[idx], index_col = 0)\n",
    "    cv = pd.read_csv(cv_path + cv_list_py[idx], index_col = 0)\n",
    "    \n",
    "    print(data_list_py[idx])\n",
    "    print(data.compare(cv))\n",
    "    print()"
   ]
  },
  {
   "cell_type": "code",
   "execution_count": 7,
   "id": "b8289978",
   "metadata": {},
   "outputs": [],
   "source": [
    "cv = pd.read_csv(cv_path + cv_list_py[0], index_col = 0)"
   ]
  },
  {
   "cell_type": "code",
   "execution_count": 9,
   "id": "29ebc9aa",
   "metadata": {},
   "outputs": [
    {
     "data": {
      "text/plain": [
       "array(['해남군', '예산시', '정선군', '평창군', '문경시'], dtype=object)"
      ]
     },
     "execution_count": 9,
     "metadata": {},
     "output_type": "execute_result"
    }
   ],
   "source": [
    "cv['지명'].unique()"
   ]
  },
  {
   "cell_type": "code",
   "execution_count": 12,
   "id": "9086256e",
   "metadata": {},
   "outputs": [
    {
     "data": {
      "text/plain": [
       "['1_가뭄지수_전처리.ipynb',\n",
       " '2_시장별_거래량_우세_품목_종합.ipynb',\n",
       " '3_면세유가_일반유가_전처리.ipynb',\n",
       " '4_재배면적_생산량_전처리.ipynb',\n",
       " '5_도매가_데이터_종합.ipynb',\n",
       " '6_도매가_보간_전처리.ipynb',\n",
       " '7_최종_학습_데이터셋_종합.ipynb',\n",
       " '8_최종_학습_데이터셋_광주_shift_merge.ipynb',\n",
       " '8_최종_학습_데이터셋_대구_shift_merge.ipynb',\n",
       " '8_최종_학습_데이터셋_대전_shift_merge.ipynb',\n",
       " '8_최종_학습_데이터셋_부산_shift_merge.ipynb',\n",
       " '8_최종_학습_데이터셋_서울_shift_merge.ipynb',\n",
       " 'compare_forDebug.ipynb',\n",
       " 'GRU_광주.ipynb',\n",
       " 'GRU_대구.ipynb',\n",
       " 'GRU_대전.ipynb',\n",
       " 'GRU_부산.ipynb',\n",
       " 'GRU_서울.ipynb',\n",
       " 'LSTM_광주.ipynb',\n",
       " 'LSTM_대구.ipynb',\n",
       " 'LSTM_대전.ipynb',\n",
       " 'LSTM_부산.ipynb',\n",
       " 'LSTM_서울.ipynb']"
      ]
     },
     "execution_count": 12,
     "metadata": {},
     "output_type": "execute_result"
    }
   ],
   "source": [
    "path = '../'\n",
    "plist = os.listdir(path)\n",
    "plist_py = [file for file in plist if file.endswith('.ipynb')]\n",
    "plist_py"
   ]
  }
 ],
 "metadata": {
  "kernelspec": {
   "display_name": "Python 3 (ipykernel)",
   "language": "python",
   "name": "python3"
  },
  "language_info": {
   "codemirror_mode": {
    "name": "ipython",
    "version": 3
   },
   "file_extension": ".py",
   "mimetype": "text/x-python",
   "name": "python",
   "nbconvert_exporter": "python",
   "pygments_lexer": "ipython3",
   "version": "3.9.12"
  }
 },
 "nbformat": 4,
 "nbformat_minor": 5
}
