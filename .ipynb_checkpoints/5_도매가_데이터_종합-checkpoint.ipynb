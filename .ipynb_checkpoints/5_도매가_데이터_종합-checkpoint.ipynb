{
 "cells": [
  {
   "cell_type": "markdown",
   "id": "f2be50a2",
   "metadata": {},
   "source": [
    "# 도매 가격 데이터 종합"
   ]
  },
  {
   "cell_type": "markdown",
   "id": "c57b09d9",
   "metadata": {},
   "source": [
    "### import"
   ]
  },
  {
   "cell_type": "code",
   "execution_count": 1,
   "id": "c193e5f2",
   "metadata": {},
   "outputs": [],
   "source": [
    "import os\n",
    "import numpy as np\n",
    "import pandas as pd\n",
    "\n",
    "import warnings\n",
    "warnings.filterwarnings(action='ignore')\n",
    "\n",
    "pd.set_option('display.max_columns', None)\n",
    "pd.set_option('display.max_rows', 500)"
   ]
  },
  {
   "cell_type": "markdown",
   "id": "7f89b8a9",
   "metadata": {},
   "source": [
    "### 윤년(2016년) 예외처리용 함수"
   ]
  },
  {
   "cell_type": "code",
   "execution_count": 2,
   "id": "4c1cecbf",
   "metadata": {},
   "outputs": [],
   "source": [
    "def check_str(item):\n",
    "    if '/' in item:\n",
    "        date_ls = item.split('/')\n",
    "        item = '2022' + '-' + date_ls[0] + '-' + date_ls[1]\n",
    "    return item"
   ]
  },
  {
   "cell_type": "markdown",
   "id": "a505b11f",
   "metadata": {},
   "source": [
    "### 도매 가격 데이터 종합셋 작성 및 저장"
   ]
  },
  {
   "cell_type": "code",
   "execution_count": 3,
   "id": "07791a84",
   "metadata": {},
   "outputs": [],
   "source": [
    "for season in ['봄', '여름', '가을', '겨울'] :\n",
    "    result = pd.DataFrame()\n",
    "    for year in range(13, 22):\n",
    "        df_raw = pd.read_excel(f'../data/도매가/원본/20{year}_5대도시_{season}배추_도매가격정보.xlsx')\n",
    "    \n",
    "        df = df_raw.T\n",
    "        df = df.rename(columns = df.iloc[0])\n",
    "        df.drop(['구분'], inplace = True)\n",
    "\n",
    "        df.reset_index(drop = False, inplace = True)\n",
    "        df.rename(columns = {'index':'날짜'}, inplace = True)\n",
    "        df = df[df != '-']\n",
    "\n",
    "        for i in df.columns:\n",
    "            df[i] = df[i].astype(str)\n",
    "            if i == '날짜':\n",
    "\n",
    "                # 윤년 예외처리                \n",
    "                df[i] = df[i].apply(lambda x : str(x))\n",
    "                df[i] = df[i].apply(lambda x : check_str(x))\n",
    "\n",
    "                df[i] = df[i].str.replace('2022', f'20{year}')\n",
    "                df[i] = df[i].str[0:10]\n",
    "\n",
    "            else:\n",
    "                df[i] = df[i].str.replace(',', '')\n",
    "                df[i] = df[i].astype(float)\n",
    "\n",
    "        result = pd.concat([result, df], axis = 0, ignore_index = True)\n",
    "    \n",
    "    result = result.assign(품명 = season)\n",
    "    result.drop(['평균', '평년'], axis = 1, inplace = True)\n",
    "\n",
    "    ## 지역_품명 별 가격 정리\n",
    "    df = result[['날짜', '품명', '서울', '부산', '대구', '광주', '대전']] # 열 순서 정렬\n",
    "\n",
    "    retDF = pd.DataFrame()\n",
    "    for raw in df.index :\n",
    "        for col in ['서울', '부산', '대구', '광주', '대전'] :\n",
    "            newDF = pd.DataFrame(columns = ['날짜', '지역', '품명', '가격'])\n",
    "            newData = {\n",
    "                '날짜' : df.loc[raw]['날짜'],\n",
    "                '지역' : col,\n",
    "                '품명' : df.loc[raw]['품명'],\n",
    "                '가격' : df.loc[raw][col]\n",
    "            }\n",
    "            newDF = newDF.append(newData, ignore_index = True)   \n",
    "            retDF = pd.concat([retDF, newDF], ignore_index = True)\n",
    "            \n",
    "    retDF.to_csv(f'../data/도매가/종합/{season}_도매_13_21년도_종합.csv', encoding='utf-8-sig')"
   ]
  },
  {
   "cell_type": "markdown",
   "id": "4b5955d9",
   "metadata": {},
   "source": [
    "### 도매 가격 종합 데이터셋 input"
   ]
  },
  {
   "cell_type": "code",
   "execution_count": 4,
   "id": "1d5eb892",
   "metadata": {},
   "outputs": [
    {
     "data": {
      "text/plain": [
       "['가을_도매_13_21년도_종합.csv',\n",
       " '겨울_도매_13_21년도_종합.csv',\n",
       " '봄_도매_13_21년도_종합.csv',\n",
       " '여름_도매_13_21년도_종합.csv']"
      ]
     },
     "execution_count": 4,
     "metadata": {},
     "output_type": "execute_result"
    }
   ],
   "source": [
    "path = '../data/도매가/종합/'\n",
    "file_list = os.listdir(path)\n",
    "file_list_py = [file for file in file_list if '.csv' in file]\n",
    "file_list_py"
   ]
  },
  {
   "cell_type": "markdown",
   "id": "def614fe",
   "metadata": {},
   "source": [
    "### 데이터셋 concat."
   ]
  },
  {
   "cell_type": "code",
   "execution_count": 5,
   "id": "80c85182",
   "metadata": {},
   "outputs": [
    {
     "data": {
      "text/html": [
       "<div>\n",
       "<style scoped>\n",
       "    .dataframe tbody tr th:only-of-type {\n",
       "        vertical-align: middle;\n",
       "    }\n",
       "\n",
       "    .dataframe tbody tr th {\n",
       "        vertical-align: top;\n",
       "    }\n",
       "\n",
       "    .dataframe thead th {\n",
       "        text-align: right;\n",
       "    }\n",
       "</style>\n",
       "<table border=\"1\" class=\"dataframe\">\n",
       "  <thead>\n",
       "    <tr style=\"text-align: right;\">\n",
       "      <th></th>\n",
       "      <th>날짜</th>\n",
       "      <th>지역</th>\n",
       "      <th>품명</th>\n",
       "      <th>가격</th>\n",
       "    </tr>\n",
       "  </thead>\n",
       "  <tbody>\n",
       "    <tr>\n",
       "      <th>0</th>\n",
       "      <td>2013-01-02</td>\n",
       "      <td>서울</td>\n",
       "      <td>가을</td>\n",
       "      <td>13000.0</td>\n",
       "    </tr>\n",
       "    <tr>\n",
       "      <th>1</th>\n",
       "      <td>2013-01-02</td>\n",
       "      <td>부산</td>\n",
       "      <td>가을</td>\n",
       "      <td>12000.0</td>\n",
       "    </tr>\n",
       "    <tr>\n",
       "      <th>2</th>\n",
       "      <td>2013-01-02</td>\n",
       "      <td>대구</td>\n",
       "      <td>가을</td>\n",
       "      <td>12000.0</td>\n",
       "    </tr>\n",
       "    <tr>\n",
       "      <th>3</th>\n",
       "      <td>2013-01-02</td>\n",
       "      <td>광주</td>\n",
       "      <td>가을</td>\n",
       "      <td>12000.0</td>\n",
       "    </tr>\n",
       "    <tr>\n",
       "      <th>4</th>\n",
       "      <td>2013-01-02</td>\n",
       "      <td>대전</td>\n",
       "      <td>가을</td>\n",
       "      <td>13000.0</td>\n",
       "    </tr>\n",
       "    <tr>\n",
       "      <th>...</th>\n",
       "      <td>...</td>\n",
       "      <td>...</td>\n",
       "      <td>...</td>\n",
       "      <td>...</td>\n",
       "    </tr>\n",
       "    <tr>\n",
       "      <th>4250</th>\n",
       "      <td>2021-12-31</td>\n",
       "      <td>서울</td>\n",
       "      <td>겨울</td>\n",
       "      <td>8000.0</td>\n",
       "    </tr>\n",
       "    <tr>\n",
       "      <th>4251</th>\n",
       "      <td>2021-12-31</td>\n",
       "      <td>부산</td>\n",
       "      <td>겨울</td>\n",
       "      <td>9000.0</td>\n",
       "    </tr>\n",
       "    <tr>\n",
       "      <th>4252</th>\n",
       "      <td>2021-12-31</td>\n",
       "      <td>대구</td>\n",
       "      <td>겨울</td>\n",
       "      <td>9000.0</td>\n",
       "    </tr>\n",
       "    <tr>\n",
       "      <th>4253</th>\n",
       "      <td>2021-12-31</td>\n",
       "      <td>광주</td>\n",
       "      <td>겨울</td>\n",
       "      <td>9120.0</td>\n",
       "    </tr>\n",
       "    <tr>\n",
       "      <th>4254</th>\n",
       "      <td>2021-12-31</td>\n",
       "      <td>대전</td>\n",
       "      <td>겨울</td>\n",
       "      <td>9700.0</td>\n",
       "    </tr>\n",
       "  </tbody>\n",
       "</table>\n",
       "<p>12145 rows × 4 columns</p>\n",
       "</div>"
      ],
      "text/plain": [
       "              날짜  지역  품명       가격\n",
       "0     2013-01-02  서울  가을  13000.0\n",
       "1     2013-01-02  부산  가을  12000.0\n",
       "2     2013-01-02  대구  가을  12000.0\n",
       "3     2013-01-02  광주  가을  12000.0\n",
       "4     2013-01-02  대전  가을  13000.0\n",
       "...          ...  ..  ..      ...\n",
       "4250  2021-12-31  서울  겨울   8000.0\n",
       "4251  2021-12-31  부산  겨울   9000.0\n",
       "4252  2021-12-31  대구  겨울   9000.0\n",
       "4253  2021-12-31  광주  겨울   9120.0\n",
       "4254  2021-12-31  대전  겨울   9700.0\n",
       "\n",
       "[12145 rows x 4 columns]"
      ]
     },
     "execution_count": 5,
     "metadata": {},
     "output_type": "execute_result"
    }
   ],
   "source": [
    "retDF = pd.DataFrame()\n",
    "for files in file_list_py :\n",
    "    tempDF = pd.read_csv(path + files, index_col = 0)\n",
    "    retDF = pd.concat([retDF, tempDF])\n",
    "retDF = retDF.sort_values(by = '날짜', ascending = True)\n",
    "retDF"
   ]
  },
  {
   "cell_type": "markdown",
   "id": "98e8bbe0",
   "metadata": {},
   "source": [
    "### 데이터셋 파일 저장"
   ]
  },
  {
   "cell_type": "code",
   "execution_count": 6,
   "id": "8119c038",
   "metadata": {},
   "outputs": [],
   "source": [
    "retDF.to_csv('../data/도매가/종합/도매_가격_완성본_13_21년도.csv', encoding = 'utf-8-sig')"
   ]
  }
 ],
 "metadata": {
  "kernelspec": {
   "display_name": "Python 3 (ipykernel)",
   "language": "python",
   "name": "python3"
  },
  "language_info": {
   "codemirror_mode": {
    "name": "ipython",
    "version": 3
   },
   "file_extension": ".py",
   "mimetype": "text/x-python",
   "name": "python",
   "nbconvert_exporter": "python",
   "pygments_lexer": "ipython3",
   "version": "3.9.12"
  }
 },
 "nbformat": 4,
 "nbformat_minor": 5
}
